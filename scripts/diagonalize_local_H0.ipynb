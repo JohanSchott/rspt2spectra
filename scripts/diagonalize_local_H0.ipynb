{
 "cells": [
  {
   "cell_type": "markdown",
   "metadata": {
    "collapsed": false
   },
   "source": [
    "#  Diagonalize 3d-block of Hamiltonian $H_0$\n",
    "Find basis (eigenvectors) which diagonalizes the 3d-block of the single-particle Hamiltonian $H_0$.\n",
    "\n",
    "#### Recommended usage: Copy notebook to (or close to) simulation folder and tailor it to the system of study. \n",
    "\n",
    "Choose simulation folder to study. \n",
    "Read `Local hamiltonian` from RSPt `out` file.\n",
    "Diagonalize Hamiltonian and use eigenvectors to transform from spherical harmonics basis to basis where Hamiltonian is diagonal. \n",
    "Save transformation vectors in RSPt-friendly format to disk."
   ]
  },
  {
   "cell_type": "code",
   "execution_count": null,
   "metadata": {
    "collapsed": true
   },
   "outputs": [],
   "source": [
    "import numpy as np\n",
    "\n",
    "from py4rspt import rsptt\n",
    "reload(rsptt)\n",
    "\n",
    "# Simulation folder to read information from. \n",
    "# Update path to desired directory \n",
    "foldername = ('path/to/simulations/folder/relative/'\n",
    "              '2/notebook/position/')\n",
    "# Number of correlated orbitals\n",
    "norb = 5  # 5 for d-systems, 7 for f-systems\n",
    "# If calculations are spin-polarized\n",
    "spinpol = False\n",
    "# Label for specifying user defined transformation matrix.\n",
    "# E.g. name of irreducible representation. \n",
    "irrlabel = '1'\n",
    "# Limit print output to three digits\n",
    "%precision 3\n",
    "\n",
    "hs, labels = rsptt.parse_matrices(foldername+'out')\n",
    "# Loop over all the local Hamiltonians\n",
    "for i,(h,label) in enumerate(zip(hs,labels)):\n",
    "    print '------ Cluster label:',label,'------'\n",
    "    # name of the file to write into\n",
    "    fwrite = (foldername + '/proj-' \n",
    "              + label + '-Irr' + irrlabel + '.inp')\n",
    "    if spinpol:\n",
    "        hd = np.copy(h)\n",
    "    else:\n",
    "        hd = h[0:norb,0:norb]  # dn block\n",
    "    print 'Hamiltonian:'\n",
    "    print 'Real part:'\n",
    "    print rsptt.print_matrix(hd.real)\n",
    "    print 'Imag part:'\n",
    "    print rsptt.print_matrix(hd.imag)\n",
    "    print\n",
    "    # Eigenvalues and eigenvectors (column vectors)\n",
    "    e,v = np.linalg.eigh(hd)    \n",
    "    # Reorder eigenvectors\n",
    "    if spinpol:\n",
    "        vs = np.zeros_like(v)\n",
    "        es = np.zeros_like(e)\n",
    "        a,b = 0,norb\n",
    "        for i in range(2*norb):\n",
    "            if np.sum(np.abs(v[:norb,i])**2) > 0.5:\n",
    "                vs[:,a] = v[:,i]\n",
    "                es[a] = e[i]\n",
    "                a += 1\n",
    "            else:\n",
    "                vs[:,b] = v[:,i]\n",
    "                es[b] = e[i]\n",
    "                b += 1\n",
    "    else:\n",
    "        vs = np.copy(v)\n",
    "        es = np.copy(e)\n",
    "    print \"Eigenvalues:\"\n",
    "    print es\n",
    "    if spinpol:\n",
    "        print 'Eigenvalues: e(dn)-e(up):'\n",
    "        print es[:5]-es[5:]\n",
    "    print \"eigenvectors:\"\n",
    "    print 'Real part:'\n",
    "    print rsptt.print_matrix(vs.real)\n",
    "    print 'Imag part:'\n",
    "    print rsptt.print_matrix(vs.imag)  \n",
    "    print 'Diagonalized Hamiltonian:'\n",
    "    hdiag = np.dot(np.transpose(np.conj(vs)),np.dot(hd,vs))\n",
    "    print 'Real part:'\n",
    "    print rsptt.print_matrix(hdiag.real)\n",
    "    print 'Imag part:'\n",
    "    print rsptt.print_matrix(hdiag.imag)\n",
    "    print\n",
    "    # Save rotation matrices to file in a RSPt adapted format\n",
    "    rsptt.write_proj_file(vs, spinpol, fwrite)"
   ]
  }
 ],
 "metadata": {
  "celltoolbar": "Raw Cell Format",
  "kernelspec": {
   "display_name": "Python 2",
   "language": "python",
   "name": "python2"
  },
  "language_info": {
   "codemirror_mode": {
    "name": "ipython",
    "version": 2
   },
   "file_extension": ".py",
   "mimetype": "text/x-python",
   "name": "python",
   "nbconvert_exporter": "python",
   "pygments_lexer": "ipython2",
   "version": "2.7.13"
  }
 },
 "nbformat": 4,
 "nbformat_minor": 2
}
